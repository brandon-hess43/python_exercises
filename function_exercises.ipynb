{
 "cells": [
  {
   "cell_type": "code",
   "execution_count": 11,
   "id": "45b8e1e2",
   "metadata": {},
   "outputs": [],
   "source": [
    "# Define a function named is_two. \n",
    "# It should accept one input and return True if the passed input is either the number or the string 2, \n",
    "# False otherwise.\n",
    "def is_two(input_value):\n",
    "    if input_value == 2 or input_value.lower() == 'two' or input_value == '2':\n",
    "        return True\n",
    "    else:\n",
    "        return False \n",
    "    "
   ]
  },
  {
   "cell_type": "code",
   "execution_count": 13,
   "id": "427811ed-a90f-4252-ba17-13de5af33167",
   "metadata": {
    "tags": []
   },
   "outputs": [
    {
     "data": {
      "text/plain": [
       "False"
      ]
     },
     "execution_count": 13,
     "metadata": {},
     "output_type": "execute_result"
    }
   ],
   "source": [
    "is_two('3')"
   ]
  },
  {
   "cell_type": "code",
   "execution_count": 48,
   "id": "ef3e7896-6066-42ea-8178-f41ef4afc44f",
   "metadata": {
    "tags": []
   },
   "outputs": [],
   "source": [
    "# Define a function named is_vowel. It should return True if the passed string is a vowel, False otherwise.\n"
   ]
  },
  {
   "cell_type": "code",
   "execution_count": 32,
   "id": "9058632f-432f-4612-98fc-bf7ab5fd3a14",
   "metadata": {
    "tags": []
   },
   "outputs": [],
   "source": [
    "vowels = ['a', 'e', 'i', 'o', 'u', 'y']\n",
    "def is_vowel(input_value):\n",
    "    if type(input_value) == str: # if the input is a string\n",
    "        if len(input_value) == 1: # if it's one character long\n",
    "            return input_value.lower() in vowels # return whether or not the input is in the vowel list\n",
    "        else:\n",
    "            return False\n",
    "    else:\n",
    "        return False"
   ]
  },
  {
   "cell_type": "code",
   "execution_count": 33,
   "id": "e6b02324-8e45-4ce4-892d-439f9a66d7c2",
   "metadata": {
    "tags": []
   },
   "outputs": [
    {
     "data": {
      "text/plain": [
       "False"
      ]
     },
     "execution_count": 33,
     "metadata": {},
     "output_type": "execute_result"
    }
   ],
   "source": [
    "is_vowel('three')"
   ]
  },
  {
   "cell_type": "code",
   "execution_count": null,
   "id": "2ccb3fc4-5b4b-4d74-94e7-697faef5b168",
   "metadata": {},
   "outputs": [],
   "source": [
    "# Define a function named is_consonant. It should return True if the passed string is a consonant, False otherwise. \n",
    "# Use your is_vowel function to accomplish this.\n"
   ]
  },
  {
   "cell_type": "code",
   "execution_count": 34,
   "id": "cc6460eb-988c-4bd1-9b5f-6ec04b727102",
   "metadata": {
    "tags": []
   },
   "outputs": [],
   "source": [
    "def is_consonant(input_value):\n",
    "    if type(input_value) == str:\n",
    "        if len(input_value) == 1:\n",
    "            return not is_vowel(input_value)\n",
    "        else:\n",
    "            return False\n",
    "    else:\n",
    "        return False"
   ]
  },
  {
   "cell_type": "code",
   "execution_count": 37,
   "id": "0bb91ea3-fe01-4255-ae3f-3f52a1cc4fe1",
   "metadata": {
    "tags": []
   },
   "outputs": [
    {
     "data": {
      "text/plain": [
       "False"
      ]
     },
     "execution_count": 37,
     "metadata": {},
     "output_type": "execute_result"
    }
   ],
   "source": [
    "is_consonant('e')"
   ]
  },
  {
   "cell_type": "code",
   "execution_count": 59,
   "id": "9194f7ff-e1ef-4189-b418-283ccbc64291",
   "metadata": {
    "tags": []
   },
   "outputs": [],
   "source": [
    "# Define a function that accepts a string that is a word. \n",
    "# The function should capitalize the first letter of the word if the word starts with a consonant.\n"
   ]
  },
  {
   "cell_type": "code",
   "execution_count": 28,
   "id": "ac42a744-1c8c-48d8-b326-460db03d4b71",
   "metadata": {
    "tags": []
   },
   "outputs": [],
   "source": [
    "def word_function(input_value):\n",
    "    if type(input_value) == str:\n",
    "        if is_consonant(input_value[0]):\n",
    "            return input_value.title()\n",
    "        else:\n",
    "            return input_value\n",
    "    else:\n",
    "        return input_value"
   ]
  },
  {
   "cell_type": "code",
   "execution_count": 29,
   "id": "9cc9676e-3a51-479a-b6a2-1a86f7d2164d",
   "metadata": {
    "tags": []
   },
   "outputs": [
    {
     "data": {
      "text/plain": [
       "'Buns'"
      ]
     },
     "execution_count": 29,
     "metadata": {},
     "output_type": "execute_result"
    }
   ],
   "source": [
    "word_function('buns')"
   ]
  },
  {
   "cell_type": "code",
   "execution_count": 53,
   "id": "f7aeb9b4-a4b9-4d22-b774-22dc5ecc2112",
   "metadata": {
    "tags": []
   },
   "outputs": [],
   "source": [
    "# Define a function named calculate_tip. \n",
    "# It should accept a tip percentage (a number between 0 and 1) \n",
    "# and the bill total, and return the amount to tip."
   ]
  },
  {
   "cell_type": "code",
   "execution_count": 46,
   "id": "76ec439a-07c8-4ce7-af74-56456cf6a056",
   "metadata": {
    "tags": []
   },
   "outputs": [],
   "source": [
    "def calculate_tip(bill,tip=.2):\n",
    "    total = round(bill * tip,2)\n",
    "    print(f'{(tip*100)}% tip is : ${round(bill * tip,2)}')\n",
    "    return total"
   ]
  },
  {
   "cell_type": "code",
   "execution_count": 47,
   "id": "0a345da8-43bc-47b0-851b-216a03bdac70",
   "metadata": {
    "tags": []
   },
   "outputs": [
    {
     "name": "stdout",
     "output_type": "stream",
     "text": [
      "20.0% tip is : $ 26.8\n"
     ]
    },
    {
     "data": {
      "text/plain": [
       "26.8"
      ]
     },
     "execution_count": 47,
     "metadata": {},
     "output_type": "execute_result"
    }
   ],
   "source": [
    "calculate_tip(134,.20)"
   ]
  },
  {
   "cell_type": "code",
   "execution_count": 3,
   "id": "0568f7ae-e646-46fd-896b-2e9de4c46064",
   "metadata": {
    "tags": []
   },
   "outputs": [],
   "source": [
    "# Define a function named apply_discount. \n",
    "# It should accept a original price, and a discount percentage, \n",
    "# and return the price after the discount is applied."
   ]
  },
  {
   "cell_type": "code",
   "execution_count": 18,
   "id": "50430dd3-4efd-4ae8-80ef-1884a3e7461f",
   "metadata": {
    "tags": []
   },
   "outputs": [],
   "source": [
    "def apply_discount(price,discount_percentage):\n",
    "    discount_percentage = discount_percentage / 100\n",
    "    discount_amt = discount_percentage * price\n",
    "    return '$' + str(price - discount_amt)"
   ]
  },
  {
   "cell_type": "code",
   "execution_count": 19,
   "id": "7c810b4f-98f8-4eb2-ad90-5133c7c67b5a",
   "metadata": {
    "tags": []
   },
   "outputs": [
    {
     "data": {
      "text/plain": [
       "'$90.0'"
      ]
     },
     "execution_count": 19,
     "metadata": {},
     "output_type": "execute_result"
    }
   ],
   "source": [
    "apply_discount(100,10)"
   ]
  },
  {
   "cell_type": "code",
   "execution_count": 21,
   "id": "c4335e28-ebe1-4441-a41b-df847c397843",
   "metadata": {
    "tags": []
   },
   "outputs": [],
   "source": [
    "# 7\n",
    "# Define a function named handle_commas. \n",
    "# It should accept a string that is a number that contains commas in it as input, \n",
    "# and return a number as output.\n"
   ]
  },
  {
   "cell_type": "code",
   "execution_count": 50,
   "id": "57def44f-e4c0-4b68-b52b-478cacd0acbf",
   "metadata": {
    "tags": []
   },
   "outputs": [],
   "source": [
    "def handle_commas(inputs = 'input'):\n",
    "    return inputs"
   ]
  },
  {
   "cell_type": "code",
   "execution_count": 51,
   "id": "16365783-eda2-4503-be88-023093c369fc",
   "metadata": {
    "tags": []
   },
   "outputs": [
    {
     "data": {
      "text/plain": [
       "'100,000'"
      ]
     },
     "execution_count": 51,
     "metadata": {},
     "output_type": "execute_result"
    }
   ],
   "source": [
    "handle_commas('100,000')"
   ]
  },
  {
   "cell_type": "code",
   "execution_count": 35,
   "id": "66452c0c-c4af-4e65-95ba-fd26dd53251e",
   "metadata": {
    "tags": []
   },
   "outputs": [],
   "source": [
    "# 8\n",
    "# Define a function named get_letter_grade. \n",
    "# It should accept a number and return the letter grade associated with that number (A-F)."
   ]
  },
  {
   "cell_type": "code",
   "execution_count": 52,
   "id": "9ff94f6d-9dee-45a9-9ece-cda63f880239",
   "metadata": {
    "tags": []
   },
   "outputs": [],
   "source": [
    "def get_letter_grade(grade):\n",
    "    if type(grade) == int:\n",
    "        if grade > 87:\n",
    "            return(\"Grade: A\")\n",
    "        elif grade < 88 and grade > 79:\n",
    "            return(\"Grade: B\")\n",
    "        elif grade < 80 and grade > 66:\n",
    "            return(\"Grade: C\")\n",
    "        elif grade < 67 and grade > 59:\n",
    "            return(\"Grade: D\")\n",
    "        else:\n",
    "            return(\"Grade: F\")\n",
    "    else:\n",
    "        return False"
   ]
  },
  {
   "cell_type": "code",
   "execution_count": 53,
   "id": "88a1e536-0d79-401c-8d9a-b3552cf39b23",
   "metadata": {
    "tags": []
   },
   "outputs": [
    {
     "data": {
      "text/plain": [
       "'Grade: A'"
      ]
     },
     "execution_count": 53,
     "metadata": {},
     "output_type": "execute_result"
    }
   ],
   "source": [
    "get_letter_grade(88)"
   ]
  },
  {
   "cell_type": "code",
   "execution_count": 38,
   "id": "4196a4fd-fb41-4b5c-8697-748b40f9e788",
   "metadata": {
    "tags": []
   },
   "outputs": [],
   "source": [
    "# 9\n",
    "# Define a function named remove_vowels that \n",
    "# accepts a string and returns a string with all the vowels removed."
   ]
  },
  {
   "cell_type": "code",
   "execution_count": 1,
   "id": "fb2447b0-3155-476a-ab92-cd095bbae82c",
   "metadata": {
    "tags": []
   },
   "outputs": [],
   "source": [
    "def remove_vowels(inputs):\n",
    "    new_input = inputs\n",
    "    vowels = ('a', 'e', 'i', 'o', 'u')\n",
    "    for x in inputs.lower():\n",
    "        if x in vowels:\n",
    "            new_input = new_input.replace(x,'')\n",
    "    return new_input"
   ]
  },
  {
   "cell_type": "code",
   "execution_count": 2,
   "id": "702a91b7-7a22-40c9-853f-5947b702ffc1",
   "metadata": {
    "tags": []
   },
   "outputs": [
    {
     "data": {
      "text/plain": [
       "'lh'"
      ]
     },
     "execution_count": 2,
     "metadata": {},
     "output_type": "execute_result"
    }
   ],
   "source": [
    "remove_vowels('aloha')"
   ]
  },
  {
   "cell_type": "code",
   "execution_count": 3,
   "id": "b60436a5-459c-4d95-aa50-a11adee02e94",
   "metadata": {},
   "outputs": [],
   "source": [
    "# Define a function named normalize_name. \n",
    "# It should accept a string and return a valid python identifier, that is:\n",
    "# - anything that is not a valid python identifier should be removed\n",
    "# - leading and trailing whitespace should be removed\n",
    "# - everything should be lowercase\n",
    "# - spaces should be replaced with underscores\n",
    "# - for example:\n",
    "#     Name will become name\n",
    "#     First Name will become first_name\n",
    "#     % Completed will become completed"
   ]
  },
  {
   "cell_type": "code",
   "execution_count": 8,
   "id": "fdcce18d-d9ca-4fb5-94df-708ab4916a2f",
   "metadata": {
    "tags": []
   },
   "outputs": [],
   "source": [
    "new_name = ''\n",
    "def normalize_name(name):\n",
    "    \n",
    "    for x in name:\n",
    "        if name[0] == ' ':\n",
    "            name = name[1:]\n",
    "        \n",
    "        elif name[-1] == ' ':\n",
    "            name = name[:-1]\n",
    "        return name\n"
   ]
  },
  {
   "cell_type": "code",
   "execution_count": 1,
   "id": "b26be47a-bfb3-49f9-8943-066a1433ca02",
   "metadata": {
    "tags": []
   },
   "outputs": [],
   "source": [
    "def normalize_name(somestr):\n",
    "    # empty string to concatenate to\n",
    "    new_string = ''\n",
    "    \n",
    "    # strip whitespace first else problems and lower case string as asked\n",
    "    somestr = somestr.strip().lower()\n",
    "    \n",
    "    \n",
    "\n",
    "    # loop over passed string and add letters and spaces but not numbers\n",
    "    for char in somestr:\n",
    "        if char.isalpha() or char == ' ':\n",
    "\n",
    "                 new_string+= char # now need to strip any white space characters again in return if num remove\n",
    "    \n",
    "    \n",
    "    return new_string.strip().replace(' ', '_') "
   ]
  },
  {
   "cell_type": "code",
   "execution_count": 2,
   "id": "e6d2ed8f-a56f-47ae-8b34-6bfc85568a0c",
   "metadata": {
    "tags": []
   },
   "outputs": [
    {
     "data": {
      "text/plain": [
       "'completed_test'"
      ]
     },
     "execution_count": 2,
     "metadata": {},
     "output_type": "execute_result"
    }
   ],
   "source": [
    "normalize_name(' 33 4545 444$ completed test 1 ')"
   ]
  },
  {
   "cell_type": "code",
   "execution_count": null,
   "id": "73d693fd-ea3b-440b-9e94-342e5bbce059",
   "metadata": {},
   "outputs": [],
   "source": []
  },
  {
   "cell_type": "code",
   "execution_count": 54,
   "id": "93be43dc-b314-4505-9287-68001c7259f2",
   "metadata": {},
   "outputs": [],
   "source": [
    "# Write a function named cumulative_sum that accepts a list of numbers and \n",
    "# returns a list that is the cumulative sum of the numbers in the list.\n",
    "# cumulative_sum([1, 1, 1]) returns [1, 2, 3]\n",
    "# cumulative_sum([1, 2, 3, 4]) returns [1, 3, 6, 10]\n"
   ]
  },
  {
   "cell_type": "code",
   "execution_count": 3,
   "id": "e73243cb-5165-4f22-930b-239c5e8737f6",
   "metadata": {},
   "outputs": [],
   "source": [
    "def cumulative_sum(oldlist):\n",
    "    \n",
    "    newlist=[]\n",
    "    \n",
    "    #intialize a variable to store the cumulative sum\n",
    "    c_sum = 0\n",
    "    \n",
    "    for num in oldlist:\n",
    "        #add the current number to the cumulative sum\n",
    "        c_sum += num\n",
    "        #print(f\"cumulative: {c_sum}\")\n",
    "        #append the cumulative sum to the newlist\n",
    "        newlist.append(c_sum)\n",
    "    print(f'oldlist: {oldlist}')\n",
    "    print(f\"newlist: {newlist}\")\n",
    "    "
   ]
  },
  {
   "cell_type": "code",
   "execution_count": null,
   "id": "39b7691a-2148-4e31-9d74-cca72db2525a",
   "metadata": {},
   "outputs": [],
   "source": [
    "https://gist.github.com/zgulde/ec8ed80ad8216905cda83d5645c60886"
   ]
  },
  {
   "cell_type": "code",
   "execution_count": 55,
   "id": "619fb28f-65a4-4988-b498-ac64b33f6c53",
   "metadata": {
    "tags": []
   },
   "outputs": [],
   "source": [
    "# Create a function named twelveto24. \n",
    "# It should accept a string in the format 10:45am or 4:30pm and \n",
    "# return a string that is the representation of the time in a 24-hour format. \n",
    "# Bonus write a function that does the opposite."
   ]
  },
  {
   "cell_type": "code",
   "execution_count": 4,
   "id": "8da231f8-1068-49f8-afea-2e23758da379",
   "metadata": {},
   "outputs": [],
   "source": [
    "def twelveto24(time):\n",
    "    \n",
    "    # separate hours and minutes\n",
    "    time = time.split(':') # split at colon as list\n",
    "    hour = time[0] # store hrs in variables\n",
    "    mins = time[1].split(' ') # store minutes in list\n",
    "    minutes = mins[0] # store min in var\n",
    "    timeofday = mins[1] # store time of day in var\n",
    "    \n",
    "    if timeofday.lower() == 'pm':\n",
    "        \n",
    "        hour = 12 + int(hour)\n",
    "\n",
    "        return str(hour) + ':' + str(minutes) + timeofday\n",
    "    else:\n",
    "      \n",
    "        return hour + ':' + minutes + timeofday"
   ]
  },
  {
   "cell_type": "code",
   "execution_count": 5,
   "id": "03dfa88b-2e17-4dc6-9463-ad214a361d8c",
   "metadata": {
    "tags": []
   },
   "outputs": [],
   "source": [
    "def twentyfourto12(time):\n",
    "    # separate hours and minutes\n",
    "    time = time.split(':') # split at colon as list\n",
    "    hour = time[0] # store hrs in variables\n",
    "    mins = time[1].split(' ') # store minutes in list\n",
    "    minutes = mins[0] # store min in var\n",
    "    timeofday = mins[1] # store time of day in var\n",
    "    \n",
    "    if timeofday.lower() == 'pm':\n",
    "        \n",
    "        extra_hrs = int(hour) - 12\n",
    "        hour = extra_hrs\n",
    "\n",
    "        \n",
    "        return str(hour) + ':' + str(minutes) + timeofday\n",
    "    else:\n",
    "      \n",
    "        return hour + ':' + minutes + timeofday"
   ]
  },
  {
   "cell_type": "code",
   "execution_count": 56,
   "id": "dbe911da-26cf-4f48-99ad-3b876e24072e",
   "metadata": {
    "tags": []
   },
   "outputs": [],
   "source": [
    "# Create a function named col_index. \n",
    "# It should accept a spreadsheet column name, and return the index number of the column."
   ]
  },
  {
   "cell_type": "code",
   "execution_count": null,
   "id": "422ae73b-1c15-4669-8ee4-3ac58566b89b",
   "metadata": {},
   "outputs": [],
   "source": []
  }
 ],
 "metadata": {
  "kernelspec": {
   "display_name": "Python 3 (ipykernel)",
   "language": "python",
   "name": "python3"
  },
  "language_info": {
   "codemirror_mode": {
    "name": "ipython",
    "version": 3
   },
   "file_extension": ".py",
   "mimetype": "text/x-python",
   "name": "python",
   "nbconvert_exporter": "python",
   "pygments_lexer": "ipython3",
   "version": "3.11.5"
  }
 },
 "nbformat": 4,
 "nbformat_minor": 5
}
