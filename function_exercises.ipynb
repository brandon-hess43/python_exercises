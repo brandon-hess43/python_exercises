{
 "cells": [
  {
   "cell_type": "code",
   "execution_count": 53,
   "id": "45b8e1e2",
   "metadata": {},
   "outputs": [],
   "source": [
    "# Define a function named is_two. \n",
    "# It should accept one input and return True if the passed input is either the number or the string 2, \n",
    "# False otherwise.\n",
    "def is_two(input_value):\n",
    "    return input_value == 2 or input_value.lower() == 'two'\n",
    "    "
   ]
  },
  {
   "cell_type": "code",
   "execution_count": 54,
   "id": "427811ed-a90f-4252-ba17-13de5af33167",
   "metadata": {
    "tags": []
   },
   "outputs": [
    {
     "data": {
      "text/plain": [
       "True"
      ]
     },
     "execution_count": 54,
     "metadata": {},
     "output_type": "execute_result"
    }
   ],
   "source": [
    "is_two('Two')"
   ]
  },
  {
   "cell_type": "code",
   "execution_count": 48,
   "id": "ef3e7896-6066-42ea-8178-f41ef4afc44f",
   "metadata": {
    "tags": []
   },
   "outputs": [],
   "source": [
    "# Define a function named is_vowel. It should return True if the passed string is a vowel, False otherwise.\n"
   ]
  },
  {
   "cell_type": "code",
   "execution_count": 30,
   "id": "9058632f-432f-4612-98fc-bf7ab5fd3a14",
   "metadata": {
    "tags": []
   },
   "outputs": [],
   "source": [
    "def is_vowel(input_value):\n",
    "    return input_value.lower() in ['a', 'e', 'i', 'o', 'u', 'y']"
   ]
  },
  {
   "cell_type": "code",
   "execution_count": 31,
   "id": "e6b02324-8e45-4ce4-892d-439f9a66d7c2",
   "metadata": {
    "tags": []
   },
   "outputs": [
    {
     "data": {
      "text/plain": [
       "True"
      ]
     },
     "execution_count": 31,
     "metadata": {},
     "output_type": "execute_result"
    }
   ],
   "source": [
    "is_vowel('A')"
   ]
  },
  {
   "cell_type": "code",
   "execution_count": null,
   "id": "2ccb3fc4-5b4b-4d74-94e7-697faef5b168",
   "metadata": {},
   "outputs": [],
   "source": [
    "# Define a function named is_consonant. It should return True if the passed string is a consonant, False otherwise. \n",
    "# Use your is_vowel function to accomplish this.\n"
   ]
  },
  {
   "cell_type": "code",
   "execution_count": 35,
   "id": "cc6460eb-988c-4bd1-9b5f-6ec04b727102",
   "metadata": {
    "tags": []
   },
   "outputs": [],
   "source": [
    "def is_consonant(input_value):\n",
    "    return not is_vowel(input_value)"
   ]
  },
  {
   "cell_type": "code",
   "execution_count": 38,
   "id": "0bb91ea3-fe01-4255-ae3f-3f52a1cc4fe1",
   "metadata": {
    "tags": []
   },
   "outputs": [
    {
     "data": {
      "text/plain": [
       "True"
      ]
     },
     "execution_count": 38,
     "metadata": {},
     "output_type": "execute_result"
    }
   ],
   "source": [
    "is_consonant('b')"
   ]
  },
  {
   "cell_type": "code",
   "execution_count": 59,
   "id": "9194f7ff-e1ef-4189-b418-283ccbc64291",
   "metadata": {
    "tags": []
   },
   "outputs": [],
   "source": [
    "# Define a function that accepts a string that is a word. \n",
    "# The function should capitalize the first letter of the word if the word starts with a consonant.\n"
   ]
  },
  {
   "cell_type": "code",
   "execution_count": 49,
   "id": "ac42a744-1c8c-48d8-b326-460db03d4b71",
   "metadata": {
    "tags": []
   },
   "outputs": [],
   "source": [
    "def word_function(input_value):\n",
    "    if is_consonant(input_value[0]):\n",
    "        return input_value.title()\n",
    "    else:\n",
    "        return input_value\n",
    "    \n",
    "answer(input"
   ]
  },
  {
   "cell_type": "code",
   "execution_count": 52,
   "id": "9cc9676e-3a51-479a-b6a2-1a86f7d2164d",
   "metadata": {
    "tags": []
   },
   "outputs": [
    {
     "data": {
      "text/plain": [
       "'Buns'"
      ]
     },
     "execution_count": 52,
     "metadata": {},
     "output_type": "execute_result"
    }
   ],
   "source": [
    "word_function('buns')"
   ]
  },
  {
   "cell_type": "code",
   "execution_count": 53,
   "id": "f7aeb9b4-a4b9-4d22-b774-22dc5ecc2112",
   "metadata": {
    "tags": []
   },
   "outputs": [],
   "source": [
    "# Define a function named calculate_tip. \n",
    "# It should accept a tip percentage (a number between 0 and 1) \n",
    "# and the bill total, and return the amount to tip."
   ]
  },
  {
   "cell_type": "code",
   "execution_count": 1,
   "id": "76ec439a-07c8-4ce7-af74-56456cf6a056",
   "metadata": {
    "tags": []
   },
   "outputs": [],
   "source": [
    "def calculate_tip(bill,tip):\n",
    "    tip = tip / 100\n",
    "    return bill * tip"
   ]
  },
  {
   "cell_type": "code",
   "execution_count": 2,
   "id": "0a345da8-43bc-47b0-851b-216a03bdac70",
   "metadata": {
    "tags": []
   },
   "outputs": [
    {
     "data": {
      "text/plain": [
       "10.0"
      ]
     },
     "execution_count": 2,
     "metadata": {},
     "output_type": "execute_result"
    }
   ],
   "source": [
    "calculate_tip(100,10)"
   ]
  },
  {
   "cell_type": "code",
   "execution_count": 3,
   "id": "0568f7ae-e646-46fd-896b-2e9de4c46064",
   "metadata": {
    "tags": []
   },
   "outputs": [],
   "source": [
    "# Define a function named apply_discount. \n",
    "# It should accept a original price, and a discount percentage, \n",
    "# and return the price after the discount is applied."
   ]
  },
  {
   "cell_type": "code",
   "execution_count": 18,
   "id": "50430dd3-4efd-4ae8-80ef-1884a3e7461f",
   "metadata": {
    "tags": []
   },
   "outputs": [],
   "source": [
    "def apply_discount(price,discount_percentage):\n",
    "    discount_percentage = discount_percentage / 100\n",
    "    discount_amt = discount_percentage * price\n",
    "    return '$' + str(price - discount_amt)"
   ]
  },
  {
   "cell_type": "code",
   "execution_count": 19,
   "id": "7c810b4f-98f8-4eb2-ad90-5133c7c67b5a",
   "metadata": {
    "tags": []
   },
   "outputs": [
    {
     "data": {
      "text/plain": [
       "'$90.0'"
      ]
     },
     "execution_count": 19,
     "metadata": {},
     "output_type": "execute_result"
    }
   ],
   "source": [
    "apply_discount(100,10)"
   ]
  },
  {
   "cell_type": "code",
   "execution_count": 21,
   "id": "c4335e28-ebe1-4441-a41b-df847c397843",
   "metadata": {
    "tags": []
   },
   "outputs": [],
   "source": [
    "# 7\n",
    "# Define a function named handle_commas. \n",
    "# It should accept a string that is a number that contains commas in it as input, \n",
    "# and return a number as output.\n"
   ]
  },
  {
   "cell_type": "code",
   "execution_count": 57,
   "id": "57def44f-e4c0-4b68-b52b-478cacd0acbf",
   "metadata": {
    "tags": []
   },
   "outputs": [],
   "source": [
    "def handle_commas(inputs = 'input'):\n",
    "    return inputs"
   ]
  },
  {
   "cell_type": "code",
   "execution_count": 59,
   "id": "16365783-eda2-4503-be88-023093c369fc",
   "metadata": {
    "tags": []
   },
   "outputs": [
    {
     "data": {
      "text/plain": [
       "'100,000'"
      ]
     },
     "execution_count": 59,
     "metadata": {},
     "output_type": "execute_result"
    }
   ],
   "source": [
    "handle_commas('100,000')"
   ]
  },
  {
   "cell_type": "code",
   "execution_count": 35,
   "id": "66452c0c-c4af-4e65-95ba-fd26dd53251e",
   "metadata": {
    "tags": []
   },
   "outputs": [],
   "source": [
    "# 8\n",
    "# Define a function named get_letter_grade. \n",
    "# It should accept a number and return the letter grade associated with that number (A-F)."
   ]
  },
  {
   "cell_type": "code",
   "execution_count": 36,
   "id": "9ff94f6d-9dee-45a9-9ece-cda63f880239",
   "metadata": {
    "tags": []
   },
   "outputs": [],
   "source": [
    "def get_letter_grade(grade):\n",
    "    if grade > 87:\n",
    "        return(\"Grade: A\")\n",
    "    elif grade < 88 and grade > 79:\n",
    "        return(\"Grade: B\")\n",
    "    elif grade < 80 and grade > 66:\n",
    "        return(\"Grade: C\")\n",
    "    elif grade < 67 and grade > 59:\n",
    "        return(\"Grade: D\")\n",
    "    else:\n",
    "        return(\"Grade: F\")"
   ]
  },
  {
   "cell_type": "code",
   "execution_count": 37,
   "id": "88a1e536-0d79-401c-8d9a-b3552cf39b23",
   "metadata": {
    "tags": []
   },
   "outputs": [
    {
     "data": {
      "text/plain": [
       "'Grade: A'"
      ]
     },
     "execution_count": 37,
     "metadata": {},
     "output_type": "execute_result"
    }
   ],
   "source": [
    "get_letter_grade(88)"
   ]
  },
  {
   "cell_type": "code",
   "execution_count": 38,
   "id": "4196a4fd-fb41-4b5c-8697-748b40f9e788",
   "metadata": {
    "tags": []
   },
   "outputs": [],
   "source": [
    "# 9\n",
    "# Define a function named remove_vowels that \n",
    "# accepts a string and returns a string with all the vowels removed."
   ]
  },
  {
   "cell_type": "code",
   "execution_count": 1,
   "id": "fb2447b0-3155-476a-ab92-cd095bbae82c",
   "metadata": {
    "tags": []
   },
   "outputs": [],
   "source": [
    "def remove_vowels(inputs):\n",
    "    new_input = inputs\n",
    "    vowels = ('a', 'e', 'i', 'o', 'u')\n",
    "    for x in inputs.lower():\n",
    "        if x in vowels:\n",
    "            new_input = new_input.replace(x,'')\n",
    "    return new_input"
   ]
  },
  {
   "cell_type": "code",
   "execution_count": 2,
   "id": "702a91b7-7a22-40c9-853f-5947b702ffc1",
   "metadata": {
    "tags": []
   },
   "outputs": [
    {
     "data": {
      "text/plain": [
       "'lh'"
      ]
     },
     "execution_count": 2,
     "metadata": {},
     "output_type": "execute_result"
    }
   ],
   "source": [
    "remove_vowels('aloha')"
   ]
  },
  {
   "cell_type": "code",
   "execution_count": 3,
   "id": "b60436a5-459c-4d95-aa50-a11adee02e94",
   "metadata": {},
   "outputs": [],
   "source": [
    "# Define a function named normalize_name. \n",
    "# It should accept a string and return a valid python identifier, that is:\n",
    "# - anything that is not a valid python identifier should be removed\n",
    "# - leading and trailing whitespace should be removed\n",
    "# - everything should be lowercase\n",
    "# - spaces should be replaced with underscores\n",
    "# - for example:\n",
    "#     Name will become name\n",
    "#     First Name will become first_name\n",
    "#     % Completed will become completed"
   ]
  },
  {
   "cell_type": "code",
   "execution_count": 1,
   "id": "fdcce18d-d9ca-4fb5-94df-708ab4916a2f",
   "metadata": {
    "tags": []
   },
   "outputs": [],
   "source": [
    "new_name = ''\n",
    "def normalize_name(name):\n",
    "    \n",
    "    for x in name:\n",
    "        if name[0] == ' ':\n",
    "            name = name[1:]\n",
    "        \n",
    "        elif name[-1] == ' ':\n",
    "            name = name[:-1]\n",
    "        \n",
    "    "
   ]
  },
  {
   "cell_type": "code",
   "execution_count": 6,
   "id": "e6d2ed8f-a56f-47ae-8b34-6bfc85568a0c",
   "metadata": {
    "tags": []
   },
   "outputs": [
    {
     "data": {
      "text/plain": [
       "'33 4545 444$ completed test 1 '"
      ]
     },
     "execution_count": 6,
     "metadata": {},
     "output_type": "execute_result"
    }
   ],
   "source": [
    "normalize_name('  33 4545 444$ completed test 1  ')"
   ]
  },
  {
   "cell_type": "code",
   "execution_count": null,
   "id": "73d693fd-ea3b-440b-9e94-342e5bbce059",
   "metadata": {},
   "outputs": [],
   "source": []
  },
  {
   "cell_type": "code",
   "execution_count": null,
   "id": "93be43dc-b314-4505-9287-68001c7259f2",
   "metadata": {},
   "outputs": [],
   "source": []
  }
 ],
 "metadata": {
  "kernelspec": {
   "display_name": "Python 3 (ipykernel)",
   "language": "python",
   "name": "python3"
  },
  "language_info": {
   "codemirror_mode": {
    "name": "ipython",
    "version": 3
   },
   "file_extension": ".py",
   "mimetype": "text/x-python",
   "name": "python",
   "nbconvert_exporter": "python",
   "pygments_lexer": "ipython3",
   "version": "3.11.5"
  }
 },
 "nbformat": 4,
 "nbformat_minor": 5
}
