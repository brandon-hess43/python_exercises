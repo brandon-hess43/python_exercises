{
 "cells": [
  {
   "cell_type": "code",
   "execution_count": 1,
   "id": "5baeda62",
   "metadata": {},
   "outputs": [
    {
     "name": "stdout",
     "output_type": "stream",
     "text": [
      "Hello, World!\n"
     ]
    }
   ],
   "source": [
    "print('Hello, World!')"
   ]
  },
  {
   "cell_type": "code",
   "execution_count": 2,
   "id": "24e7da43",
   "metadata": {},
   "outputs": [],
   "source": [
    "greeting = 'Hello, from a variable'"
   ]
  },
  {
   "cell_type": "code",
   "execution_count": 3,
   "id": "4eba023d",
   "metadata": {},
   "outputs": [
    {
     "data": {
      "text/plain": [
       "'Hello, from a variable'"
      ]
     },
     "execution_count": 3,
     "metadata": {},
     "output_type": "execute_result"
    }
   ],
   "source": [
    "greeting"
   ]
  },
  {
   "cell_type": "code",
   "execution_count": 4,
   "id": "3cd04514",
   "metadata": {},
   "outputs": [
    {
     "data": {
      "text/plain": [
       "['In',\n",
       " 'Out',\n",
       " '_',\n",
       " '_3',\n",
       " '__',\n",
       " '___',\n",
       " '__builtin__',\n",
       " '__builtins__',\n",
       " '__doc__',\n",
       " '__loader__',\n",
       " '__name__',\n",
       " '__package__',\n",
       " '__spec__',\n",
       " '_dh',\n",
       " '_i',\n",
       " '_i1',\n",
       " '_i2',\n",
       " '_i3',\n",
       " '_i4',\n",
       " '_ih',\n",
       " '_ii',\n",
       " '_iii',\n",
       " '_oh',\n",
       " 'exit',\n",
       " 'get_ipython',\n",
       " 'greeting',\n",
       " 'open',\n",
       " 'quit']"
      ]
     },
     "execution_count": 4,
     "metadata": {},
     "output_type": "execute_result"
    }
   ],
   "source": [
    "dir()"
   ]
  },
  {
   "cell_type": "code",
   "execution_count": 5,
   "id": "d0d09dc7",
   "metadata": {},
   "outputs": [],
   "source": [
    "# Ctrl+S - it saves the notebook and checkpoint.\n"
   ]
  },
  {
   "cell_type": "code",
   "execution_count": 6,
   "id": "598dfa73",
   "metadata": {},
   "outputs": [],
   "source": [
    "# Shift + Enter: a shortcut that lets you run the current cell, then select another one if required."
   ]
  },
  {
   "cell_type": "code",
   "execution_count": 7,
   "id": "d92ea8e4",
   "metadata": {},
   "outputs": [],
   "source": [
    "# While in command mode: H show all shortcuts"
   ]
  },
  {
   "cell_type": "code",
   "execution_count": null,
   "id": "d2ce2e50",
   "metadata": {},
   "outputs": [],
   "source": [
    "# https://towardsdatascience.com/jypyter-notebook-shortcuts-bf0101a98330"
   ]
  }
 ],
 "metadata": {
  "kernelspec": {
   "display_name": "Python 3 (ipykernel)",
   "language": "python",
   "name": "python3"
  },
  "language_info": {
   "codemirror_mode": {
    "name": "ipython",
    "version": 3
   },
   "file_extension": ".py",
   "mimetype": "text/x-python",
   "name": "python",
   "nbconvert_exporter": "python",
   "pygments_lexer": "ipython3",
   "version": "3.11.5"
  }
 },
 "nbformat": 4,
 "nbformat_minor": 5
}
