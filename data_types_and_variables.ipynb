{
 "cells": [
  {
   "cell_type": "code",
   "execution_count": null,
   "id": "19b6d4fa",
   "metadata": {},
   "outputs": [],
   "source": [
    "#1\n",
    "type(99.9)"
   ]
  },
  {
   "cell_type": "code",
   "execution_count": null,
   "id": "ebb7fa5a",
   "metadata": {},
   "outputs": [],
   "source": [
    "type(false)"
   ]
  },
  {
   "cell_type": "code",
   "execution_count": null,
   "id": "73a56abe",
   "metadata": {},
   "outputs": [],
   "source": [
    "type(\"False\")"
   ]
  },
  {
   "cell_type": "code",
   "execution_count": null,
   "id": "c76827f5",
   "metadata": {},
   "outputs": [],
   "source": [
    "type(False)"
   ]
  },
  {
   "cell_type": "code",
   "execution_count": null,
   "id": "6b0028bb",
   "metadata": {},
   "outputs": [],
   "source": [
    "type('0')"
   ]
  },
  {
   "cell_type": "code",
   "execution_count": null,
   "id": "b3218e94",
   "metadata": {},
   "outputs": [],
   "source": [
    "type(0)"
   ]
  },
  {
   "cell_type": "code",
   "execution_count": null,
   "id": "a1cf36de",
   "metadata": {},
   "outputs": [],
   "source": [
    "type(True)"
   ]
  },
  {
   "cell_type": "code",
   "execution_count": null,
   "id": "64ef5639",
   "metadata": {},
   "outputs": [],
   "source": [
    "type('True')"
   ]
  },
  {
   "cell_type": "code",
   "execution_count": null,
   "id": "70a2aa39",
   "metadata": {},
   "outputs": [],
   "source": [
    "type([{}])"
   ]
  },
  {
   "cell_type": "code",
   "execution_count": null,
   "id": "a93b9959",
   "metadata": {},
   "outputs": [],
   "source": [
    "type({'a': []})"
   ]
  },
  {
   "cell_type": "code",
   "execution_count": null,
   "id": "850f87b1",
   "metadata": {},
   "outputs": [],
   "source": [
    "#2 What data type would best represent the following?\n",
    "\n",
    "A term or phrase typed into a search box\n",
    "STR\n",
    "Whether or not a user is logged in\n",
    "bool\n",
    "A discount amount to apply to a user's shopping cart\n",
    "float\n",
    "Whether or not a coupon code is valid\n",
    "bool\n",
    "An email address typed into a registration form\n",
    "str\n",
    "The price of a product\n",
    "float\n",
    "The email addresses collected from a registration form\n",
    "list\n",
    "Information about applicants to Codeup's data science program\n",
    "dict"
   ]
  },
  {
   "cell_type": "code",
   "execution_count": null,
   "id": "a7478ba7",
   "metadata": {},
   "outputs": [],
   "source": [
    "#3\n",
    "'1' + 2\n"
   ]
  },
  {
   "cell_type": "code",
   "execution_count": null,
   "id": "ed810955",
   "metadata": {},
   "outputs": [],
   "source": [
    "6 % 4\n"
   ]
  },
  {
   "cell_type": "code",
   "execution_count": null,
   "id": "d4e29fb3",
   "metadata": {},
   "outputs": [],
   "source": [
    "type(6 % 4)\n"
   ]
  },
  {
   "cell_type": "code",
   "execution_count": null,
   "id": "f47582ba",
   "metadata": {},
   "outputs": [],
   "source": [
    "type(type(6 % 4))\n"
   ]
  },
  {
   "cell_type": "code",
   "execution_count": null,
   "id": "8a61b207",
   "metadata": {},
   "outputs": [],
   "source": [
    "'3 + 4 is ' + 3 + 4\n"
   ]
  },
  {
   "cell_type": "code",
   "execution_count": null,
   "id": "b9cfb3b9",
   "metadata": {},
   "outputs": [],
   "source": [
    "0 < 0\n"
   ]
  },
  {
   "cell_type": "code",
   "execution_count": null,
   "id": "da0b334a",
   "metadata": {},
   "outputs": [],
   "source": [
    "'False' == False\n"
   ]
  },
  {
   "cell_type": "code",
   "execution_count": null,
   "id": "67ed52bb",
   "metadata": {},
   "outputs": [],
   "source": [
    "True == 'True'\n"
   ]
  },
  {
   "cell_type": "code",
   "execution_count": null,
   "id": "619f715c",
   "metadata": {},
   "outputs": [],
   "source": [
    "5 >= -5\n"
   ]
  },
  {
   "cell_type": "code",
   "execution_count": null,
   "id": "57a249c8",
   "metadata": {},
   "outputs": [],
   "source": [
    "True or \"42\"\n"
   ]
  },
  {
   "cell_type": "code",
   "execution_count": null,
   "id": "8ba65bcb",
   "metadata": {},
   "outputs": [],
   "source": [
    "6 % 5\n"
   ]
  },
  {
   "cell_type": "code",
   "execution_count": null,
   "id": "b2b7b33b",
   "metadata": {},
   "outputs": [],
   "source": [
    "5 < 4 and 1 == 1\n"
   ]
  },
  {
   "cell_type": "code",
   "execution_count": null,
   "id": "643d19c5",
   "metadata": {},
   "outputs": [],
   "source": [
    "'codeup' == 'codeup' and 'codeup' == 'Codeup'\n"
   ]
  },
  {
   "cell_type": "code",
   "execution_count": null,
   "id": "9aa33cea",
   "metadata": {},
   "outputs": [],
   "source": [
    "4 >= 0 and 1 !== '1'\n"
   ]
  },
  {
   "cell_type": "code",
   "execution_count": null,
   "id": "53e7658e",
   "metadata": {},
   "outputs": [],
   "source": [
    "6 % 3 == 0\n"
   ]
  },
  {
   "cell_type": "code",
   "execution_count": null,
   "id": "8ba86130",
   "metadata": {},
   "outputs": [],
   "source": [
    "5 % 2 != 0\n"
   ]
  },
  {
   "cell_type": "code",
   "execution_count": null,
   "id": "dfd0f456",
   "metadata": {},
   "outputs": [],
   "source": [
    "[1] + 2\n"
   ]
  },
  {
   "cell_type": "code",
   "execution_count": null,
   "id": "61213620",
   "metadata": {},
   "outputs": [],
   "source": [
    "[1] + [2]\n"
   ]
  },
  {
   "cell_type": "code",
   "execution_count": null,
   "id": "8987c2f5",
   "metadata": {},
   "outputs": [],
   "source": [
    "[1] * 2\n"
   ]
  },
  {
   "cell_type": "code",
   "execution_count": null,
   "id": "e5b93a34",
   "metadata": {},
   "outputs": [],
   "source": [
    "[1] * [2]\n"
   ]
  },
  {
   "cell_type": "code",
   "execution_count": null,
   "id": "40fedd3d",
   "metadata": {},
   "outputs": [],
   "source": [
    "[] + [] == []\n"
   ]
  },
  {
   "cell_type": "code",
   "execution_count": null,
   "id": "fa36b729",
   "metadata": {
    "scrolled": true
   },
   "outputs": [],
   "source": [
    "{} + {}\n"
   ]
  },
  {
   "cell_type": "code",
   "execution_count": 1,
   "id": "874f9156",
   "metadata": {},
   "outputs": [],
   "source": [
    "#4\n",
    "(3 * 3) + (3 * 5) + (3 * 1)\n",
    "\n",
    "#Correction\n",
    "\n",
    "daily_fee = 3\n",
    "little_mermaid_days = 3\n",
    "brother_bear_days = 5\n",
    "hercules_days = 1\n"
   ]
  },
  {
   "cell_type": "code",
   "execution_count": 2,
   "id": "9224efa6",
   "metadata": {},
   "outputs": [],
   "source": [
    "amount_owed = daily_fee * (little_mermaid_days + brother_bear_days + hercules_days)\n"
   ]
  },
  {
   "cell_type": "code",
   "execution_count": 6,
   "id": "51af3faf",
   "metadata": {},
   "outputs": [
    {
     "name": "stdout",
     "output_type": "stream",
     "text": [
      "Amount Owed: $27\n"
     ]
    }
   ],
   "source": [
    "print(\"Amount Owed: $\" + str(amount_owed))"
   ]
  },
  {
   "cell_type": "code",
   "execution_count": 2,
   "id": "e1f93433",
   "metadata": {},
   "outputs": [
    {
     "data": {
      "text/plain": [
       "7420"
      ]
     },
     "execution_count": 2,
     "metadata": {},
     "output_type": "execute_result"
    }
   ],
   "source": [
    "#5 5. Suppose you're working as a contractor for 3 companies: Google, Amazon and Facebook.\n",
    "\n",
    "#They pay you the following hourly rates:\n",
    "\n",
    "#Google: 400 dollars\n",
    "#Amazon: 380 dollars\n",
    "#Facebook: 350 dollars\n",
    "#This week you worked: 10 hours for Facebook, 6 hours for Google, and 4 hours for Amazon.\n",
    "\n",
    "#How much will you receive in payment for this week?\n",
    "\n",
    "(10 * 350) + (6 * 400) + (4 * 380)\n",
    "\n",
    "#Correction\n",
    "\n"
   ]
  },
  {
   "cell_type": "code",
   "execution_count": 7,
   "id": "ac189c52",
   "metadata": {},
   "outputs": [],
   "source": [
    "hrly_rate_fb = 350\n",
    "hrly_rate_ggl = 400\n",
    "hrly_rate_amzn = 380\n",
    "\n",
    "hrs_worked_fb = 10\n",
    "hrs_worked_ggl = 6\n",
    "hrs_worked_amzn = 4"
   ]
  },
  {
   "cell_type": "code",
   "execution_count": 9,
   "id": "2af34f46",
   "metadata": {},
   "outputs": [],
   "source": [
    "wkly_payout = ((hrly_rate_fb * hrs_worked_fb) + (hrly_rate_ggl * hrs_worked_ggl) + (hrly_rate_amzn * hrs_worked_amzn))"
   ]
  },
  {
   "cell_type": "code",
   "execution_count": 10,
   "id": "979e6d26",
   "metadata": {},
   "outputs": [
    {
     "name": "stdout",
     "output_type": "stream",
     "text": [
      "Weekly Payout: $7420\n"
     ]
    }
   ],
   "source": [
    "print(\"Weekly Payout: $\" + str(wkly_payout))"
   ]
  },
  {
   "cell_type": "code",
   "execution_count": null,
   "id": "8e1891b1",
   "metadata": {},
   "outputs": [],
   "source": [
    "#6\n",
    "x = 'class is or is not full'\n",
    "y = 'class conflicts with schedule'\n",
    "IF x = False AND y = False\n",
    "THEN 'enroll'\n",
    "ELSE \"don't enroll\"\n",
    "\n",
    "#Correction\n",
    "\n",
    "class_is_full = False\n",
    "class_conflicts_with_schedule = False\n",
    "\n",
    "IF NOT clas_is_full AND NOT class_conflicts_with_schedule\n",
    "THEN: \n",
    "print('You can enroll')\n",
    "ELSE:\n",
    "print ('You cannot enroll')"
   ]
  },
  {
   "cell_type": "code",
   "execution_count": 15,
   "id": "0bb9ec2e",
   "metadata": {
    "scrolled": true
   },
   "outputs": [],
   "source": [
    "#7\n",
    "\n",
    "\n",
    "#Correction\n",
    "\n",
    "premium_member = True\n",
    "items_bought = 3\n",
    "offer_expired = False\n"
   ]
  },
  {
   "cell_type": "code",
   "execution_count": 14,
   "id": "805a683b",
   "metadata": {},
   "outputs": [
    {
     "name": "stdout",
     "output_type": "stream",
     "text": [
      "The Offer Stands\n"
     ]
    }
   ],
   "source": [
    "if (premium_member and not offer_expired) or (items_bought > 2 and not premium_member and not offer_expired): \n",
    "    print('The Offer Stands')\n",
    "else:\n",
    "    print('Go Home')"
   ]
  },
  {
   "cell_type": "code",
   "execution_count": null,
   "id": "6b71b121",
   "metadata": {},
   "outputs": [],
   "source": [
    "#8\n",
    "strong_pswd = True\n",
    "IF\n",
    "len(password) > 4\n",
    "AND\n",
    "len(password) < 21\n",
    "AND\n",
    "password != username\n",
    "AND\n",
    "username != ' %'\n",
    "AND\n",
    "pasword != ' %'\n",
    "ELSE\n",
    "strong_pswd = False\n",
    "\n",
    "#Correction\n",
    "\n"
   ]
  },
  {
   "cell_type": "code",
   "execution_count": 23,
   "id": "b1f2ef2f",
   "metadata": {},
   "outputs": [],
   "source": [
    "username = 'codeup'\n",
    "password = 'notastrongpassword'\n",
    "\n",
    "\n"
   ]
  },
  {
   "cell_type": "code",
   "execution_count": 27,
   "id": "126667b5",
   "metadata": {},
   "outputs": [],
   "source": [
    "pswd_long_enough = (len(password) > 4)\n",
    "pswd_not_too_long = (len(password) < 21)\n",
    "pswd_not_username = (password != username)\n",
    "whitespace_pswd = (password != ' %')\n",
    "whitespace_username = (username != ' %')"
   ]
  },
  {
   "cell_type": "code",
   "execution_count": 26,
   "id": "0946d20a",
   "metadata": {},
   "outputs": [
    {
     "name": "stdout",
     "output_type": "stream",
     "text": [
      "True\n",
      "True\n",
      "True\n",
      "True\n",
      "True\n"
     ]
    }
   ],
   "source": [
    "print(whitespace_username)\n",
    "print(whitespace_pswd)\n",
    "print(pswd_not_username)\n",
    "print(pswd_not_too_long)\n",
    "print(pswd_long_enough)"
   ]
  },
  {
   "cell_type": "code",
   "execution_count": null,
   "id": "ab467977",
   "metadata": {},
   "outputs": [],
   "source": []
  }
 ],
 "metadata": {
  "kernelspec": {
   "display_name": "Python 3 (ipykernel)",
   "language": "python",
   "name": "python3"
  },
  "language_info": {
   "codemirror_mode": {
    "name": "ipython",
    "version": 3
   },
   "file_extension": ".py",
   "mimetype": "text/x-python",
   "name": "python",
   "nbconvert_exporter": "python",
   "pygments_lexer": "ipython3",
   "version": "3.11.5"
  }
 },
 "nbformat": 4,
 "nbformat_minor": 5
}
